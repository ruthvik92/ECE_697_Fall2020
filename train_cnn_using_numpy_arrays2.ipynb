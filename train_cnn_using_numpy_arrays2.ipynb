{
 "cells": [
  {
   "cell_type": "markdown",
   "metadata": {},
   "source": [
    "`Course Instructor`: **John Chiasson**\n",
    "\n",
    "`Author (TA)`: **Ruthvik Vaila**\n",
    "\n",
    "# Notes:\n",
    "* In this notebook we shall load a large `NumPy` array directly into RAM to train a model.\n",
    "* While the model is training keep an eye on the time taken and RAM usage of your machine.\n",
    "* Tested on `Python 3.7.5` with `Tensorflow 1.15.0` and `Keras 2.2.4`. \n",
    "* Tested on `Python 2.7.17` with `Tensorflow 1.15.3` and `Keras 2.2.4`. "
   ]
  },
  {
   "cell_type": "markdown",
   "metadata": {},
   "source": [
    "# Imports"
   ]
  },
  {
   "cell_type": "code",
   "execution_count": 1,
   "metadata": {},
   "outputs": [
    {
     "data": {
      "text/plain": [
       "'3.7.5 (default, Nov  7 2019, 10:50:52) \\n[GCC 8.3.0]'"
      ]
     },
     "execution_count": 1,
     "metadata": {},
     "output_type": "execute_result"
    }
   ],
   "source": [
    "import sys, os\n",
    "sys.version"
   ]
  },
  {
   "cell_type": "code",
   "execution_count": 2,
   "metadata": {},
   "outputs": [
    {
     "name": "stderr",
     "output_type": "stream",
     "text": [
      "Using TensorFlow backend.\n",
      "Matplotlib created a temporary config/cache directory at /tmp/matplotlib-dgkhnb90 because the default path (/home/visionteam/.config/matplotlib) is not a writable directory; it is highly recommended to set the MPLCONFIGDIR environment variable to a writable directory, in particular to speed up the import of Matplotlib and to better support multiprocessing.\n"
     ]
    }
   ],
   "source": [
    "from tensorflow.compat.v1 import InteractiveSession\n",
    "import tensorflow as tf\n",
    "os.environ[\"CUDA_VISIBLE_DEVICES\"]=\"0\" #setting it to -1 hides the GPU.\n",
    "#tf.compat.v1.enable_eager_execution()\n",
    "from tensorflow.python.client import device_lib\n",
    "import numpy as np\n",
    "import IPython\n",
    "import sys, pickle, os, gzip\n",
    "#import h5py, time\n",
    "import IPython.display as display\n",
    "from keras.utils import to_categorical\n",
    "import keras, warnings\n",
    "import matplotlib.pyplot as plt\n",
    "import feature_reconstruction as fs\n",
    "warnings.filterwarnings(action='once')\n",
    "# GPU specific settings\n",
    "config = tf.ConfigProto()\n",
    "config.gpu_options.allow_growth=True\n",
    "session = InteractiveSession(config=config)\n",
    "# this make sure that if using a gpu total gpu memory is not gobbled\n",
    "# up by tensorflow and allows growth as required\n",
    "##https://github.com/tensorflow/tensorflow/issues/24828"
   ]
  },
  {
   "cell_type": "code",
   "execution_count": 3,
   "metadata": {},
   "outputs": [
    {
     "data": {
      "text/plain": [
       "[name: \"/device:CPU:0\"\n",
       " device_type: \"CPU\"\n",
       " memory_limit: 268435456\n",
       " locality {\n",
       " }\n",
       " incarnation: 9517107407947471394,\n",
       " name: \"/device:XLA_CPU:0\"\n",
       " device_type: \"XLA_CPU\"\n",
       " memory_limit: 17179869184\n",
       " locality {\n",
       " }\n",
       " incarnation: 12389371648091663295\n",
       " physical_device_desc: \"device: XLA_CPU device\",\n",
       " name: \"/device:XLA_GPU:0\"\n",
       " device_type: \"XLA_GPU\"\n",
       " memory_limit: 17179869184\n",
       " locality {\n",
       " }\n",
       " incarnation: 17664850190067440011\n",
       " physical_device_desc: \"device: XLA_GPU device\",\n",
       " name: \"/device:GPU:0\"\n",
       " device_type: \"GPU\"\n",
       " memory_limit: 7110747751\n",
       " locality {\n",
       "   bus_id: 1\n",
       "   links {\n",
       "   }\n",
       " }\n",
       " incarnation: 15805517368584217625\n",
       " physical_device_desc: \"device: 0, name: GeForce RTX 2080 with Max-Q Design, pci bus id: 0000:01:00.0, compute capability: 7.5\"]"
      ]
     },
     "execution_count": 3,
     "metadata": {},
     "output_type": "execute_result"
    }
   ],
   "source": [
    "device_lib.list_local_devices()"
   ]
  },
  {
   "cell_type": "code",
   "execution_count": 4,
   "metadata": {},
   "outputs": [
    {
     "name": "stdout",
     "output_type": "stream",
     "text": [
      "TF version:1.15.0, Keras version:2.2.4\n"
     ]
    }
   ],
   "source": [
    "print('TF version:{}, Keras version:{}'.format(tf.__version__, keras.__version__))"
   ]
  },
  {
   "cell_type": "markdown",
   "metadata": {},
   "source": [
    "# Load the data\n",
    "* There are `60000` images in the training set and each image needs to be of size `(28, 28, 1)` for `Keras`. The extra dimension in `(28, 28, 1)` indicates number of channels. In this case we have `1` channel because it's a gray scale image. In datasets like `CIFAR-10`, `CIFAR-100`, and `ImageNet` images have `3` channels `(RGB)`. "
   ]
  },
  {
   "cell_type": "code",
   "execution_count": 5,
   "metadata": {},
   "outputs": [
    {
     "name": "stdout",
     "output_type": "stream",
     "text": [
      "train_x.shape:(50000, 784) and train_y.shape:(50000,)\n",
      "val_x.shape:(10000, 784) and val_y.shape:(10000,)\n",
      "images are 28*28 = 784 vectors\n",
      "\n",
      "train_x.shape:(60000, 784)\n",
      "train_y.shape:(60000,)\n",
      "\n",
      "train_x[0].shape:60000\n",
      "train_x[1].shape:784\n",
      "\n",
      "train_x.shape:(60000, 28, 28, 1)\n",
      "train_y.shape:(60000,)\n",
      "train_x[59999].shape: (28, 28, 1)\n",
      "\n",
      "test_x.shape:(10000, 784)\n",
      "test_x.shape:(10000, 28, 28, 1)\n",
      "test_y.shape:(10000,)\n"
     ]
    }
   ],
   "source": [
    "filename = 'data/mnist.pkl.gz'\n",
    "filehandle = gzip.open(filename, 'rb')\n",
    "train_data, val_data, test_data = pickle.load(filehandle, encoding='latin1')\n",
    "#train_data, val_data, test_data = pickle.load(filehandle)\n",
    "filehandle.close()\n",
    "train_x, train_y = train_data\n",
    "print('train_x.shape:{} and train_y.shape:{}'.format(train_x.shape, train_y.shape))\n",
    "val_x, val_y = val_data\n",
    "print('val_x.shape:{} and val_y.shape:{}'.format(val_x.shape, val_y.shape))\n",
    "print('images are 28*28 = 784 vectors')\n",
    "#print(train_x[0]) # images are float32, normalized, and 784 vectors\n",
    "print('')\n",
    "# combine train and validation data as Keras will split it internally\n",
    "train_x = np.concatenate([train_x, val_x], axis=0)\n",
    "train_y = np.concatenate([train_y, val_y], axis=0)\n",
    "print('train_x.shape:{}'.format(train_x.shape))\n",
    "print('train_y.shape:{}'.format(train_y.shape))\n",
    "print('')\n",
    "print('train_x[0].shape:{}'.format(train_x.shape[0]))\n",
    "print('train_x[1].shape:{}'.format(train_x.shape[1]))\n",
    "print('')\n",
    "train_x = train_x.reshape(train_x.shape[0], 28, 28, 1)\n",
    "print('train_x.shape:{}'.format(train_x.shape))\n",
    "print('train_y.shape:{}'.format(train_y.shape))\n",
    "print('train_x[59999].shape: {}'.format(train_x[59999].shape))\n",
    "#print('train_x[0]: {}'.format(train_x[0]))\n",
    "print('')\n",
    "test_x, test_y = test_data\n",
    "print('test_x.shape:{}'.format(test_x.shape))\n",
    "test_x = test_x.reshape(test_x.shape[0], 28, 28, 1)\n",
    "print('test_x.shape:{}'.format(test_x.shape))\n",
    "print('test_y.shape:{}'.format(test_y.shape))\n",
    "#train_x.shape[0]\n"
   ]
  },
  {
   "cell_type": "markdown",
   "metadata": {},
   "source": [
    "## One hot vectorize labels"
   ]
  },
  {
   "cell_type": "code",
   "execution_count": 6,
   "metadata": {},
   "outputs": [
    {
     "name": "stdout",
     "output_type": "stream",
     "text": [
      "train_y.shape:(60000, 10)\n",
      "test_y.shape:(10000, 10)\n"
     ]
    },
    {
     "data": {
      "text/plain": [
       "array([0., 0., 0., 0., 0., 1., 0., 0., 0., 0.], dtype=float32)"
      ]
     },
     "execution_count": 6,
     "metadata": {},
     "output_type": "execute_result"
    }
   ],
   "source": [
    "train_y = to_categorical(train_y)\n",
    "print('train_y.shape:{}'.format(train_y.shape))\n",
    "\n",
    "test_y = to_categorical(test_y)\n",
    "print('test_y.shape:{}'.format(test_y.shape))\n",
    "train_y[0]"
   ]
  },
  {
   "cell_type": "markdown",
   "metadata": {},
   "source": [
    "## Visualize the dataset.\n",
    "* The toggle command `ctrl + /` comments/uncomments multiple lines of code"
   ]
  },
  {
   "cell_type": "code",
   "execution_count": 7,
   "metadata": {},
   "outputs": [
    {
     "data": {
      "image/png": "[encoded data removed]",
      "text/plain": [
       "<Figure size 1440x288 with 20 Axes>"
      ]
     },
     "metadata": {
      "needs_background": "light"
     },
     "output_type": "display_data"
    }
   ],
   "source": [
    "fig, axes = plt.subplots(2, 10, figsize=(20,4), subplot_kw={'xticks': range(0,28,7), 'yticks': range(0,28,7)})\n",
    "fig.subplots_adjust(left=0.12, bottom=0.1, right=0.9, top=0.8, wspace=0.3, hspace=0.5)\n",
    "#axes is a 2 by 10 array of the memory addresses of the subplots\n",
    "#print(axes)\n",
    "axes = axes.flatten()  #  axes is now a 1 by 20 array of the memory addresses of the subplots\n",
    "#print(fig.shape)\n",
    "#print(len(axes))\n",
    "for i in range(len(axes)):\n",
    "    axes[i].imshow(train_x[i,:,:,0])\n",
    "plt.suptitle('First 20 Images of the Dataset')\n",
    "plt.show()"
   ]
  },
  {
   "cell_type": "markdown",
   "metadata": {},
   "source": [
    "#### Setup a small CNN model using `tf.keras.Sequential` \n",
    "* A simple convolutional neural network with the structure\n",
    "* `32c32p64c64p->200->10`\n",
    "* `Adam optimizer` and `Cross Entropy Loss` with a learning rate ($\\alpha$) set to `0.005`."
   ]
  },
  {
   "cell_type": "code",
   "execution_count": 8,
   "metadata": {},
   "outputs": [],
   "source": [
    "eta = 0.0005\n",
    "val_frac = 0.1 #Fraction of training data to be used for validation \n",
    "# FIRST CONVOLUTION LAYER\n",
    "nC1_kernels = 32 ##number of kernels in the first convolutional layer\n",
    "C1_kernel_shape = (5, 5) ## size of the kernel in the first convolutional layer (5,5)\n",
    "C1_stride = (1,1) ## stride of the convolution 1 pixel right and 1 pixel down \n",
    "C1_activation = 'relu' ## activation function of the C1 neurons\n",
    "P1_kernel_shape = (2, 2) ## Size of the pooling window (2,2) \n",
    "P1_stride = 2 ## stride of the pooling window\n",
    "\n",
    "# SECOND CONVOLUTION LAYER\n",
    "nC2_kernels = 64\n",
    "C2_kernel_shape = (3, 3)  # kernel weight is really 3x3x32\n",
    "C2_stride = 1\n",
    "C2_activation = 'relu'\n",
    "P2_kernel_shape = (2, 2)\n",
    "P2_stride = 2\n",
    "\n",
    "# FULLY CONNECTED LAYER\n",
    "n_dense = 200\n",
    "dense_activation = 'relu'\n",
    "\n",
    "# FINAL LAYER\n",
    "last_activation = 'softmax'\n",
    "cost_function = 'categorical_crossentropy'\n",
    "n_out = 10\n",
    "optimizer = 'adam' #'sgd'"
   ]
  },
  {
   "cell_type": "code",
   "execution_count": 9,
   "metadata": {},
   "outputs": [],
   "source": [
    "# help(tf.keras.layers.Conv2D)\n",
    "# Conv2D(filters, kernel_size, strides=(1, 1), padding='valid', data_format=None, dilation_rate=(1, 1), \n",
    "#        activation=None, use_bias=True, kernel_initializer='glorot_uniform', bias_initializer='zeros', \n",
    "#        kernel_regularizer=None, bias_regularizer=None, activity_regularizer=None, kernel_constraint=None, \n",
    "#        bias_constraint=None, **kwargs)"
   ]
  },
  {
   "cell_type": "code",
   "execution_count": 10,
   "metadata": {},
   "outputs": [
    {
     "name": "stdout",
     "output_type": "stream",
     "text": [
      "WARNING:tensorflow:From /home/visionteam/python37_env/lib/python3.7/site-packages/tensorflow_core/python/ops/resource_variable_ops.py:1630: calling BaseResourceVariable.__init__ (from tensorflow.python.ops.resource_variable_ops) with constraint is deprecated and will be removed in a future version.\n",
      "Instructions for updating:\n",
      "If using Keras pass *_constraint arguments to layers.\n",
      "Model: \"sequential\"\n",
      "_________________________________________________________________\n",
      "Layer (type)                 Output Shape              Param #   \n",
      "=================================================================\n",
      "conv2d (Conv2D)              (None, 24, 24, 32)        832       \n",
      "_________________________________________________________________\n",
      "max_pooling2d (MaxPooling2D) (None, 12, 12, 32)        0         \n",
      "_________________________________________________________________\n",
      "conv2d_1 (Conv2D)            (None, 10, 10, 64)        18496     \n",
      "_________________________________________________________________\n",
      "max_pooling2d_1 (MaxPooling2 (None, 5, 5, 64)          0         \n",
      "_________________________________________________________________\n",
      "flatten (Flatten)            (None, 1600)              0         \n",
      "_________________________________________________________________\n",
      "dense (Dense)                (None, 200)               320200    \n",
      "_________________________________________________________________\n",
      "dense_1 (Dense)              (None, 10)                2010      \n",
      "=================================================================\n",
      "Total params: 341,538\n",
      "Trainable params: 341,538\n",
      "Non-trainable params: 0\n",
      "_________________________________________________________________\n",
      "None\n"
     ]
    },
    {
     "name": "stderr",
     "output_type": "stream",
     "text": [
      "/home/visionteam/python37_env/lib/python3.7/site-packages/tensorflow_core/python/framework/tensor_util.py:521: DeprecationWarning: tostring() is deprecated. Use tobytes() instead.\n",
      "  tensor_proto.tensor_content = nparray.tostring()\n",
      "/home/visionteam/python37_env/lib/python3.7/site-packages/tensorflow_core/python/training/tracking/data_structures.py:669: DeprecationWarning: Using or importing the ABCs from 'collections' instead of from 'collections.abc' is deprecated since Python 3.3,and in 3.9 it will stop working\n",
      "  if not isinstance(wrapped_dict, collections.Mapping):\n"
     ]
    }
   ],
   "source": [
    "model = tf.keras.Sequential()\n",
    "\n",
    "#FIRST CONVOLUTION LAYER\n",
    "model.add(tf.keras.layers.Conv2D(nC1_kernels, C1_kernel_shape, C1_stride, activation=C1_activation,\n",
    "                                input_shape=(28, 28, 1)))\n",
    "# The 32 maps are 24x24   # 28-5+1 = 24\n",
    "model.add(tf.keras.layers.MaxPooling2D(P1_kernel_shape, P1_stride))\n",
    "# The 32 pooled maps are 12x12  \n",
    "#SECOND CONVOLUTION LAYER\n",
    "model.add(tf.keras.layers.Conv2D(nC2_kernels, C2_kernel_shape, C2_stride, activation=C2_activation))\n",
    "# The 64 maps are 10x10   (12-3+1 = 10)\n",
    "model.add(tf.keras.layers.MaxPooling2D(P2_kernel_shape, P2_stride))\n",
    "# The 64 pooled maps are 5x5\n",
    "model.add(tf.keras.layers.Flatten())\n",
    "# This makes the 64 pooled 5x5 neuronal maps into a single 25*64 = 1600 neuron layer\n",
    "#FULLY CONNECTED LAYERS\n",
    "model.add(tf.keras.layers.Dense(n_dense, activation=dense_activation))\n",
    "model.add(tf.keras.layers.Dense(n_out, activation=last_activation))\n",
    "\n",
    "#COMPILE THE MODEL\n",
    "if(optimizer=='adam'):\n",
    "    optim = tf.keras.optimizers.Adam(lr=eta)\n",
    "else:\n",
    "    optim = tf.keras.optimizers.SGD(lr=eta)\n",
    "    \n",
    "model.compile(optimizer=optim, loss=cost_function, metrics=['accuracy'])\n",
    "print(model.summary())\n",
    "\n",
    "#CALLBACK TO KERAS TO SAVE BEST MODEL WEIGHTS\n",
    "best_weights=\"cnn_weights_best.hdf5\"\n",
    "checkpoint = tf.keras.callbacks.ModelCheckpoint(best_weights, monitor='val_acc', verbose=1, save_best_only=True,\n",
    "                                                mode='max')\n"
   ]
  },
  {
   "cell_type": "markdown",
   "metadata": {},
   "source": [
    "## Train the CNN"
   ]
  },
  {
   "cell_type": "code",
   "execution_count": 11,
   "metadata": {},
   "outputs": [
    {
     "name": "stderr",
     "output_type": "stream",
     "text": [
      "/home/visionteam/python37_env/lib/python3.7/site-packages/tensorflow_core/python/framework/indexed_slices.py:339: DeprecationWarning: Using or importing the ABCs from 'collections' instead of from 'collections.abc' is deprecated since Python 3.3,and in 3.9 it will stop working\n",
      "  if not isinstance(values, collections.Sequence):\n",
      "/home/visionteam/python37_env/lib/python3.7/site-packages/tensorflow_core/python/framework/tensor_util.py:521: DeprecationWarning: tostring() is deprecated. Use tobytes() instead.\n",
      "  tensor_proto.tensor_content = nparray.tostring()\n"
     ]
    },
    {
     "name": "stdout",
     "output_type": "stream",
     "text": [
      "Train on 54000 samples, validate on 6000 samples\n",
      "Epoch 1/3\n",
      "53824/54000 [============================>.] - ETA: 0s - loss: 0.1555 - acc: 0.9537\n",
      "Epoch 00001: val_acc improved from -inf to 0.98450, saving model to cnn_weights_best.hdf5\n",
      "54000/54000 [==============================] - 5s 101us/sample - loss: 0.1552 - acc: 0.9538 - val_loss: 0.0528 - val_acc: 0.9845\n",
      "Epoch 2/3\n",
      "53568/54000 [============================>.] - ETA: 0s - loss: 0.0472 - acc: 0.9854\n",
      "Epoch 00002: val_acc improved from 0.98450 to 0.98950, saving model to cnn_weights_best.hdf5\n",
      "54000/54000 [==============================] - 4s 73us/sample - loss: 0.0470 - acc: 0.9855 - val_loss: 0.0341 - val_acc: 0.9895\n",
      "Epoch 3/3\n",
      "53536/54000 [============================>.] - ETA: 0s - loss: 0.0336 - acc: 0.9895\n",
      "Epoch 00003: val_acc improved from 0.98950 to 0.98967, saving model to cnn_weights_best.hdf5\n",
      "54000/54000 [==============================] - 5s 84us/sample - loss: 0.0336 - acc: 0.9895 - val_loss: 0.0348 - val_acc: 0.9897\n"
     ]
    }
   ],
   "source": [
    "mini_batch_size = 32\n",
    "history = model.fit(train_x,train_y, epochs=3, batch_size=mini_batch_size, callbacks=[checkpoint],\n",
    "                   validation_split=val_frac)\n",
    "# val_frac is fraction of the training data taken to be validation data"
   ]
  },
  {
   "cell_type": "markdown",
   "metadata": {},
   "source": [
    "# Test the model at the end"
   ]
  },
  {
   "cell_type": "code",
   "execution_count": 12,
   "metadata": {},
   "outputs": [
    {
     "name": "stdout",
     "output_type": "stream",
     "text": [
      "\r",
      "10000/10000 [==============================] - 1s 55us/sample - loss: 0.0275 - acc: 0.9908\n"
     ]
    },
    {
     "data": {
      "text/plain": [
       "[0.02752428874373436, 0.9908]"
      ]
     },
     "execution_count": 12,
     "metadata": {},
     "output_type": "execute_result"
    }
   ],
   "source": [
    "model.evaluate(test_x, test_y, batch_size=len(test_x))"
   ]
  },
  {
   "cell_type": "markdown",
   "metadata": {},
   "source": [
    "# Test at the best validation accuracy"
   ]
  },
  {
   "cell_type": "code",
   "execution_count": 13,
   "metadata": {},
   "outputs": [
    {
     "name": "stdout",
     "output_type": "stream",
     "text": [
      "\r",
      "10000/10000 [==============================] - 0s 8us/sample - loss: 0.0275 - acc: 0.9908\n"
     ]
    },
    {
     "data": {
      "text/plain": [
       "[0.02752428874373436, 0.9908]"
      ]
     },
     "execution_count": 13,
     "metadata": {},
     "output_type": "execute_result"
    }
   ],
   "source": [
    "model.load_weights(best_weights)\n",
    "model.compile(optimizer=optim, loss=cost_function, metrics=['accuracy'])\n",
    "model.evaluate(test_x, test_y, batch_size=len(test_x))"
   ]
  },
  {
   "cell_type": "markdown",
   "metadata": {},
   "source": [
    "# Inspect the Conv1 Kernel Weights"
   ]
  },
  {
   "cell_type": "code",
   "execution_count": 14,
   "metadata": {},
   "outputs": [
    {
     "name": "stdout",
     "output_type": "stream",
     "text": [
      "model.layers is a list of 7 objects\n",
      "<class 'list'> 7\n",
      "\n",
      "These 7 objects are:\n",
      "(1) weights & biases of Conv1\n",
      "(2) weights & biases of Pool1\n",
      "(3) weights & biases of Conv2\n",
      "(4) weights & biases of Pool2\n",
      "(5) weights & biases of the flatten layer\n",
      "(6) weights & biases of the first dense layer\n",
      "(7) weights & biases of the (dense) ouput layer\n",
      "\n",
      "Kernal Weights from input to feature map 32 of Conv1\n",
      "\n",
      "[[-0.06575421 -0.02683284  0.00080536  0.07127229  0.00323876]\n",
      " [-0.07158435  0.00758935  0.00885831  0.07363085  0.09622905]\n",
      " [-0.10267138  0.05444289  0.05798951 -0.0072583   0.09811629]\n",
      " [ 0.01201839  0.004405    0.10003516 -0.01242755  0.05808596]\n",
      " [ 0.04052163 -0.07526184  0.03353418 -0.0050043  -0.05672176]]\n",
      "\n",
      "Biases of all 32 maps of the first convolutional layer\n",
      "\n",
      "[ 0.02900926  0.02760518  0.04806118 -0.01565142 -0.03552289 -0.02869575\n",
      " -0.03154618 -0.01244855 -0.00532459  0.00167263  0.01289914  0.04397564\n",
      "  0.01808778  0.02477111 -0.0699987  -0.01408242  0.01394621  0.00724255\n",
      " -0.02022159 -0.0010961  -0.00226237 -0.03268897 -0.02167233 -0.00369787\n",
      "  0.03554384  0.01551132 -0.03763426 -0.00744505 -0.00499178 -0.00723427\n",
      " -0.05839998 -0.03891424]\n",
      "\n",
      "Kernal Weights from Conv1 layer to the Pool1 layer\n",
      "\n",
      "[]\n",
      "\n",
      "Bias of all 32 maps of the Pool1 layer\n",
      "\n",
      "[]\n"
     ]
    }
   ],
   "source": [
    "print(\"model.layers is a list of 7 objects\")\n",
    "print(type(model.layers),len(model.layers))\n",
    "print(\"\")\n",
    "print(\"These 7 objects are:\")\n",
    "print(\"(1) weights & biases of Conv1\")\n",
    "print(\"(2) weights & biases of Pool1\")\n",
    "print(\"(3) weights & biases of Conv2\")\n",
    "print(\"(4) weights & biases of Pool2\")\n",
    "print(\"(5) weights & biases of the flatten layer\")\n",
    "print(\"(6) weights & biases of the first dense layer\")\n",
    "print(\"(7) weights & biases of the (dense) ouput layer\")\n",
    "print(\"\")\n",
    "print(\"Kernal Weights from input to feature map 32 of Conv1\")\n",
    "print('')\n",
    "print(model.layers[0].get_weights()[0][:,:,0,31])  # 5x5x1   5x5x3\n",
    "print('')\n",
    "print(\"Biases of all 32 maps of the first convolutional layer\")\n",
    "print('')\n",
    "print(model.layers[0].get_weights()[1])\n",
    "print(\"\")\n",
    "print(\"Kernal Weights from Conv1 layer to the Pool1 layer\")\n",
    "print('')\n",
    "print(model.layers[1].get_weights())\n",
    "print('')\n",
    "print(\"Bias of all 32 maps of the Pool1 layer\")\n",
    "print('')\n",
    "print(model.layers[1].get_weights())"
   ]
  },
  {
   "cell_type": "markdown",
   "metadata": {},
   "source": [
    "## Get all the weights and biases of the Network"
   ]
  },
  {
   "cell_type": "code",
   "execution_count": 15,
   "metadata": {},
   "outputs": [
    {
     "name": "stdout",
     "output_type": "stream",
     "text": [
      "conv1_kernels.shape:(5, 5, 1, 32)\n",
      "conv1_biases.shape:(32,)\n",
      "\n",
      "conv2_kernels.shape:(3, 3, 32, 64)\n",
      "conv2_biases.shape:(64,)\n",
      "\n",
      "fcn1_weights.shape:(1600, 200)\n",
      "fcn1_biases.shape:(200,)\n",
      "\n",
      "fcn2_weights.shape:(200, 10)\n",
      "fcn2_biases.shape:(10,)\n",
      "\n"
     ]
    }
   ],
   "source": [
    "#Conv1 \n",
    "\n",
    "conv1_kernels = model.layers[0].get_weights()[0]\n",
    "print('conv1_kernels.shape:{}'.format(conv1_kernels.shape))\n",
    "conv1_biases = model.layers[0].get_weights()[1]\n",
    "print('conv1_biases.shape:{}\\n'.format(conv1_biases.shape))\n",
    "\n",
    "#Conv2 \n",
    "# It is model.layers[2] instead of model.layers[1] because model.layers[1] is a pooling layer\n",
    "# and pooling layers have neither biases nor weights\n",
    "\n",
    "conv2_kernels = model.layers[2].get_weights()[0]\n",
    "print('conv2_kernels.shape:{}'.format(conv2_kernels.shape))\n",
    "conv2_biases = model.layers[2].get_weights()[1]\n",
    "print('conv2_biases.shape:{}\\n'.format(conv2_biases.shape))\n",
    "# model.layers[3] are the weights & biases of the pooling layer\n",
    "# model.layers[4] are the weights & biases of the flatten layer\n",
    "#First fully connected layer\n",
    "# it's  model.layers[5] because model.layers[3] is a pooling layer and model.layers[4] is a\n",
    "# flattening \"layer\"\n",
    "fcn1_weights = model.layers[5].get_weights()[0]\n",
    "print('fcn1_weights.shape:{}'.format(fcn1_weights.shape))\n",
    "fcn1_biases = model.layers[5].get_weights()[1]\n",
    "print('fcn1_biases.shape:{}\\n'.format(fcn1_biases.shape))\n",
    "fcn2_weights = model.layers[6].get_weights()[0]\n",
    "print('fcn2_weights.shape:{}'.format(fcn2_weights.shape))\n",
    "fcn2_biases = model.layers[6].get_weights()[1]\n",
    "print('fcn2_biases.shape:{}\\n'.format(fcn2_biases.shape))\n",
    "#print(fcn2_weights.astype(np.float16))\n",
    "#print(fcn2_biases)"
   ]
  },
  {
   "cell_type": "markdown",
   "metadata": {},
   "source": [
    "# Visualize `Conv1` weights"
   ]
  },
  {
   "cell_type": "code",
   "execution_count": 16,
   "metadata": {},
   "outputs": [
    {
     "data": {
      "image/png": "[encoded data removed]",
      "text/plain": [
       "<Figure size 1152x144 with 32 Axes>"
      ]
     },
     "metadata": {},
     "output_type": "display_data"
    }
   ],
   "source": [
    "fig, axes = plt.subplots(2, 16, figsize=(16,2), subplot_kw={'xticks': [], 'yticks': []})\n",
    "#fig.subplots_adjust(left=0.12, bottom=0.5, right=0.89, top=0.9, wspace=0.1, hspace=0.21)\n",
    "axes = axes.flatten()\n",
    "for i in range(len(axes)):\n",
    "    axes[i].imshow(conv1_kernels[:,:,0,i], cmap='gray')\n",
    "    axes[i].set_title('Map'+str(i+1), fontsize=8)\n",
    "#plt.suptitle('Conv1 Kernels')\n",
    "plt.show()\n",
    "# imshow normalizes the kernel weights to between 0 and 1, then converts them to grayscale 0 to 255\n",
    "# black is 0 and white is 255"
   ]
  },
  {
   "cell_type": "markdown",
   "metadata": {},
   "source": [
    "# Difference of Gaussian.\n",
    "* [Read](https://en.wikipedia.org/wiki/Gaussian_function#Two-dimensional_Gaussian_function)\n",
    "* [Read](https://en.wikipedia.org/wiki/Difference_of_Gaussians)"
   ]
  },
  {
   "cell_type": "code",
   "execution_count": 17,
   "metadata": {},
   "outputs": [
    {
     "name": "stdout",
     "output_type": "stream",
     "text": [
      "[[ 0.06396 -0.01121 -0.07825 -0.10315 -0.07825 -0.01121  0.06396]\n",
      " [-0.01121 -0.1276  -0.1613  -0.1315  -0.1613  -0.1276  -0.01121]\n",
      " [-0.07825 -0.1613   0.1166   0.433    0.1166  -0.1613  -0.07825]\n",
      " [-0.10315 -0.1315   0.433    1.       0.433   -0.1315  -0.10315]\n",
      " [-0.07825 -0.1613   0.1166   0.433    0.1166  -0.1613  -0.07825]\n",
      " [-0.01121 -0.1276  -0.1613  -0.1315  -0.1613  -0.1276  -0.01121]\n",
      " [ 0.06396 -0.01121 -0.07825 -0.10315 -0.07825 -0.01121  0.06396]]\n",
      "\n",
      "dog1.shape is (7, 7)\n"
     ]
    },
    {
     "data": {
      "image/png": "[encoded data removed]",
      "text/plain": [
       "<Figure size 432x288 with 1 Axes>"
      ]
     },
     "metadata": {
      "needs_background": "light"
     },
     "output_type": "display_data"
    }
   ],
   "source": [
    "dog1 = fs.DoG(7, 1.0, 2.0)\n",
    "print(dog1.astype(np.float16))\n",
    "plt.imshow(dog1)\n",
    "print(\"\")\n",
    "print('dog1.shape is {}'.format(dog1.shape))"
   ]
  },
  {
   "cell_type": "code",
   "execution_count": 18,
   "metadata": {},
   "outputs": [
    {
     "name": "stdout",
     "output_type": "stream",
     "text": [
      "[[-0.3965  0.0695  0.485   0.6396  0.485   0.0695 -0.3965]\n",
      " [ 0.0695  0.7905  1.      0.815   1.      0.7905  0.0695]\n",
      " [ 0.485   1.     -0.7227 -2.686  -0.7227  1.      0.485 ]\n",
      " [ 0.6396  0.815  -2.686  -6.2    -2.686   0.815   0.6396]\n",
      " [ 0.485   1.     -0.7227 -2.686  -0.7227  1.      0.485 ]\n",
      " [ 0.0695  0.7905  1.      0.815   1.      0.7905  0.0695]\n",
      " [-0.3965  0.0695  0.485   0.6396  0.485   0.0695 -0.3965]]\n",
      "\n",
      "dog2.shape is (7, 7)\n"
     ]
    },
    {
     "data": {
      "image/png": "[encoded data removed]",
      "text/plain": [
       "<Figure size 432x288 with 1 Axes>"
      ]
     },
     "metadata": {
      "needs_background": "light"
     },
     "output_type": "display_data"
    }
   ],
   "source": [
    "dog2 = fs.DoG(7, 2.0, 1.0)\n",
    "print(dog2.astype(np.float16))\n",
    "plt.imshow(dog2)\n",
    "print(\"\")\n",
    "print('dog2.shape is {}'.format(dog2.shape))"
   ]
  },
  {
   "cell_type": "markdown",
   "metadata": {},
   "source": [
    "## Setup the convolution in `tensorflow`"
   ]
  },
  {
   "cell_type": "code",
   "execution_count": 19,
   "metadata": {},
   "outputs": [],
   "source": [
    "image_placeholder = tf.placeholder(tf.float32, shape=[1,28,28,1])\n",
    "kernel_placeholder = tf.placeholder(tf.float32, shape=[7,7,1,1]) \n",
    "# 7x7 kernel with 1 input channels and 1 output channel/map\n",
    "conv_strides_1d = [1, 1, 1, 1]\n",
    "inter = tf.squeeze(tf.nn.conv2d(image_placeholder,kernel_placeholder,strides=conv_strides_1d,padding='VALID'))\n",
    "sess= tf.Session()\n",
    "init_op = tf.global_variables_initializer()\n",
    "sess.run(init_op)"
   ]
  },
  {
   "cell_type": "markdown",
   "metadata": {},
   "source": [
    "## Convolve with `DoG1` and Display"
   ]
  },
  {
   "cell_type": "code",
   "execution_count": 20,
   "metadata": {},
   "outputs": [
    {
     "name": "stdout",
     "output_type": "stream",
     "text": [
      "train_x[0,:,:,0].shape is (28, 28)\n"
     ]
    },
    {
     "data": {
      "text/plain": [
       "<matplotlib.image.AxesImage at 0x7f6048224650>"
      ]
     },
     "execution_count": 20,
     "metadata": {},
     "output_type": "execute_result"
    },
    {
     "data": {
      "image/png": "[encoded data removed]",
      "text/plain": [
       "<Figure size 432x288 with 1 Axes>"
      ]
     },
     "metadata": {
      "needs_background": "light"
     },
     "output_type": "display_data"
    }
   ],
   "source": [
    "print('train_x[0,:,:,0].shape is {}'.format(train_x[0,:,:,0].shape))\n",
    "image = train_x[0,:,:,0].reshape(1,28,28,1)\n",
    "kernel = dog1.reshape(7,7,1,1)\n",
    "result1 = sess.run(inter,feed_dict ={image_placeholder:image,kernel_placeholder:kernel})\n",
    "plt.imshow(result1)"
   ]
  },
  {
   "cell_type": "markdown",
   "metadata": {},
   "source": [
    "## Convolve with `DoG2` and Display"
   ]
  },
  {
   "cell_type": "code",
   "execution_count": 21,
   "metadata": {},
   "outputs": [
    {
     "data": {
      "text/plain": [
       "<matplotlib.image.AxesImage at 0x7f60481e1550>"
      ]
     },
     "execution_count": 21,
     "metadata": {},
     "output_type": "execute_result"
    },
    {
     "data": {
      "image/png": "[encoded data removed]",
      "text/plain": [
       "<Figure size 432x288 with 1 Axes>"
      ]
     },
     "metadata": {
      "needs_background": "light"
     },
     "output_type": "display_data"
    }
   ],
   "source": [
    "image = train_x[0,:,:,0].reshape(1,28,28,1)\n",
    "kernel = dog2.reshape(7,7,1,1)\n",
    "result2 = sess.run(inter,feed_dict ={image_placeholder:image,kernel_placeholder:kernel})\n",
    "plt.imshow(result2)"
   ]
  },
  {
   "cell_type": "markdown",
   "metadata": {},
   "source": [
    "# Restart the notebook to free up the `GPU` and `RAM`."
   ]
  },
  {
   "cell_type": "code",
   "execution_count": 22,
   "metadata": {},
   "outputs": [
    {
     "data": {
      "text/plain": [
       "{'status': 'ok', 'restart': True}"
      ]
     },
     "execution_count": 22,
     "metadata": {},
     "output_type": "execute_result"
    }
   ],
   "source": [
    "IPython.Application.instance().kernel.do_shutdown(True) #automatically restarts kernel"
   ]
  },
  {
   "cell_type": "code",
   "execution_count": null,
   "metadata": {},
   "outputs": [],
   "source": []
  }
 ],
 "metadata": {
  "kernelspec": {
   "display_name": "python37_env",
   "language": "python",
   "name": "python37_env"
  },
  "language_info": {
   "codemirror_mode": {
    "name": "ipython",
    "version": 3
   },
   "file_extension": ".py",
   "mimetype": "text/x-python",
   "name": "python",
   "nbconvert_exporter": "python",
   "pygments_lexer": "ipython3",
   "version": "3.7.5"
  },
  "toc": {
   "base_numbering": 1,
   "nav_menu": {},
   "number_sections": true,
   "sideBar": true,
   "skip_h1_title": false,
   "title_cell": "Table of Contents",
   "title_sidebar": "Contents",
   "toc_cell": false,
   "toc_position": {
    "height": "calc(100% - 180px)",
    "left": "10px",
    "top": "150px",
    "width": "241.667px"
   },
   "toc_section_display": true,
   "toc_window_display": true
  },
  "varInspector": {
   "cols": {
    "lenName": 16,
    "lenType": 16,
    "lenVar": 40
   },
   "kernels_config": {
    "python": {
     "delete_cmd_postfix": "",
     "delete_cmd_prefix": "del ",
     "library": "var_list.py",
     "varRefreshCmd": "print(var_dic_list())"
    },
    "r": {
     "delete_cmd_postfix": ") ",
     "delete_cmd_prefix": "rm(",
     "library": "var_list.r",
     "varRefreshCmd": "cat(var_dic_list()) "
    }
   },
   "oldHeight": 204.516666,
   "position": {
    "height": "40px",
    "left": "1010px",
    "right": "20px",
    "top": "120px",
    "width": "250px"
   },
   "types_to_exclude": [
    "module",
    "function",
    "builtin_function_or_method",
    "instance",
    "_Feature"
   ],
   "varInspector_section_display": "none",
   "window_display": true
  }
 },
 "nbformat": 4,
 "nbformat_minor": 2
}
