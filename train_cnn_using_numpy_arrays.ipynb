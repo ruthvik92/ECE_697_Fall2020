{
 "cells": [
  {
   "cell_type": "markdown",
   "metadata": {},
   "source": [
    "`Course Instructor`: **John Chiasson**\n",
    "\n",
    "`Author (TA)`: **Ruthvik Vaila**\n",
    "\n",
    "# Notes:\n",
    "* In this notebook we shall load a large `NumPy` array directly into RAM to train a model.\n",
    "* While the model is training keep an eye on the time taken and RAM usage of your machine.\n",
    "* Tested on `Python 3.7.5` with `Tensorflow 1.15.0` and `Keras 2.2.4`. \n",
    "* Tested on `Python 2.7.17` with `Tensorflow 1.15.3` and `Keras 2.2.4`. "
   ]
  },
  {
   "cell_type": "markdown",
   "metadata": {},
   "source": [
    "# Imports"
   ]
  },
  {
   "cell_type": "code",
   "execution_count": 1,
   "metadata": {},
   "outputs": [
    {
     "data": {
      "text/plain": [
       "'2.7.17 (default, Jul 20 2020, 15:37:01) \\n[GCC 7.5.0]'"
      ]
     },
     "execution_count": 1,
     "metadata": {},
     "output_type": "execute_result"
    }
   ],
   "source": [
    "import sys, os\n",
    "sys.version"
   ]
  },
  {
   "cell_type": "code",
   "execution_count": 2,
   "metadata": {},
   "outputs": [
    {
     "name": "stderr",
     "output_type": "stream",
     "text": [
      "Using TensorFlow backend.\n"
     ]
    }
   ],
   "source": [
    "from tensorflow.compat.v1 import InteractiveSession\n",
    "import tensorflow as tf\n",
    "os.environ[\"CUDA_VISIBLE_DEVICES\"]=\"0\" #setting it to -1 hides the GPU.\n",
    "#tf.compat.v1.enable_eager_execution()\n",
    "from tensorflow.python.client import device_lib\n",
    "import numpy as np\n",
    "import IPython\n",
    "import sys, pickle, os, gzip\n",
    "import h5py, time, inspect\n",
    "import IPython.display as display\n",
    "from keras.utils import to_categorical\n",
    "import keras, warnings\n",
    "import matplotlib.pyplot as plt\n",
    "warnings.filterwarnings(action='once')\n",
    "config = tf.ConfigProto()\n",
    "config.gpu_options.allow_growth=True\n",
    "session = InteractiveSession(config=config)\n",
    "# this make sure thaat if using a gpu total gpu memory is not gobbled\n",
    "# up by tensorflow and allows growth as required\n",
    "##https://github.com/tensorflow/tensorflow/issues/24828"
   ]
  },
  {
   "cell_type": "code",
   "execution_count": 3,
   "metadata": {},
   "outputs": [
    {
     "data": {
      "text/plain": [
       "[name: \"/device:CPU:0\"\n",
       " device_type: \"CPU\"\n",
       " memory_limit: 268435456\n",
       " locality {\n",
       " }\n",
       " incarnation: 4744988786662804371, name: \"/device:XLA_CPU:0\"\n",
       " device_type: \"XLA_CPU\"\n",
       " memory_limit: 17179869184\n",
       " locality {\n",
       " }\n",
       " incarnation: 10913778147349097372\n",
       " physical_device_desc: \"device: XLA_CPU device\", name: \"/device:XLA_GPU:0\"\n",
       " device_type: \"XLA_GPU\"\n",
       " memory_limit: 17179869184\n",
       " locality {\n",
       " }\n",
       " incarnation: 14754229209809221408\n",
       " physical_device_desc: \"device: XLA_GPU device\", name: \"/device:GPU:0\"\n",
       " device_type: \"GPU\"\n",
       " memory_limit: 6969917440\n",
       " locality {\n",
       "   bus_id: 1\n",
       "   links {\n",
       "   }\n",
       " }\n",
       " incarnation: 14920927984074356755\n",
       " physical_device_desc: \"device: 0, name: GeForce RTX 2080 with Max-Q Design, pci bus id: 0000:01:00.0, compute capability: 7.5\"]"
      ]
     },
     "execution_count": 3,
     "metadata": {},
     "output_type": "execute_result"
    }
   ],
   "source": [
    "device_lib.list_local_devices()"
   ]
  },
  {
   "cell_type": "code",
   "execution_count": 4,
   "metadata": {},
   "outputs": [
    {
     "name": "stdout",
     "output_type": "stream",
     "text": [
      "TF version:1.15.3, Keras version:2.2.4\n"
     ]
    }
   ],
   "source": [
    "print('TF version:{}, Keras version:{}'.format(tf.__version__, keras.__version__))"
   ]
  },
  {
   "cell_type": "markdown",
   "metadata": {},
   "source": [
    "# Load the data\n",
    "* There are `60000` images in the training set and each image needs to be of size `(28, 28, 1)` for `Keras`. The extra dimension in `(28, 28, 1)` indicates number of channels. In this case we have `1` channel because it's a gray scale image. In datasets like `CIFAR-10`, `CIFAR-100`, and `ImageNet` images have `3` channels `(RGB)`. "
   ]
  },
  {
   "cell_type": "code",
   "execution_count": 6,
   "metadata": {},
   "outputs": [
    {
     "name": "stdout",
     "output_type": "stream",
     "text": [
      "Train data shape:(50000, 784) and labels shape:(50000,)\n",
      "Valid data shape:(10000, 784) and labels shape:(10000,)\n",
      "Train data shape:(60000, 784)\n",
      "Train data shape after reshaping:(60000, 28, 28, 1)\n",
      "Train labels shape:(60000,)\n",
      "Test data shape:(10000, 784)\n",
      "Test data shape after reshaping:(10000, 28, 28, 1)\n",
      "Test labels shape:(10000,)\n"
     ]
    }
   ],
   "source": [
    "filename = 'data/mnist.pkl.gz'\n",
    "filehandle = gzip.open(filename, 'rb')\n",
    "train_data, val_data, test_data = pickle.load(filehandle, encoding='latin1')\n",
    "#train_data, val_data, test_data = pickle.load(filehandle)\n",
    "filehandle.close()\n",
    "train_x, train_y = train_data\n",
    "print('Train data shape:{} and labels shape:{}'.format(train_x.shape, train_y.shape))\n",
    "val_x, val_y = val_data\n",
    "print('Valid data shape:{} and labels shape:{}'.format(val_x.shape, val_y.shape))\n",
    "## combine train and validation data, classifier_class can split it inside \n",
    "train_x = np.concatenate([train_x, val_x], axis=0)\n",
    "train_y = np.concatenate([train_y, val_y], axis=0)\n",
    "print('Train data shape:{}'.format(train_x.shape))\n",
    "train_x = train_x.reshape(train_x.shape[0], 28, 28, 1)\n",
    "print('Train data shape after reshaping:{}'.format(train_x.shape))\n",
    "print('Train labels shape:{}'.format(train_y.shape))\n",
    "test_x, test_y = test_data\n",
    "print('Test data shape:{}'.format(test_x.shape))\n",
    "test_x = test_x.reshape(test_x.shape[0], 28, 28, 1)\n",
    "print('Test data shape after reshaping:{}'.format(test_x.shape))\n",
    "print('Test labels shape:{}'.format(test_y.shape))\n"
   ]
  },
  {
   "cell_type": "markdown",
   "metadata": {},
   "source": [
    "## One hot vectorize labels"
   ]
  },
  {
   "cell_type": "code",
   "execution_count": 7,
   "metadata": {},
   "outputs": [
    {
     "name": "stdout",
     "output_type": "stream",
     "text": [
      "Train labels shape:(60000, 10)\n",
      "Test labels shape:(10000, 10)\n"
     ]
    }
   ],
   "source": [
    "train_y = to_categorical(train_y)\n",
    "print('Train labels shape:{}'.format(train_y.shape))\n",
    "\n",
    "test_y = to_categorical(test_y)\n",
    "print('Test labels shape:{}'.format(test_y.shape))"
   ]
  },
  {
   "cell_type": "markdown",
   "metadata": {},
   "source": [
    "## Visualize the dataset."
   ]
  },
  {
   "cell_type": "code",
   "execution_count": 8,
   "metadata": {},
   "outputs": [
    {
     "data": {
      "image/png": "[encoded data removed]",
      "text/plain": [
       "<Figure size 1440x288 with 40 Axes>"
      ]
     },
     "metadata": {},
     "output_type": "display_data"
    }
   ],
   "source": [
    "fig, axes = plt.subplots(2, 20, figsize=(20,4), subplot_kw={'xticks': [], 'yticks': []})\n",
    "fig.subplots_adjust(left=0.12, bottom=0.5, right=0.89, top=0.9, wspace=0.1, hspace=0.21)\n",
    "axes = axes.flatten()\n",
    "for i in range(len(axes)):\n",
    "    axes[i].imshow(train_x[i,:,:,0])\n",
    "plt.suptitle('First 40 Images of the dataset')\n",
    "plt.show()"
   ]
  },
  {
   "cell_type": "markdown",
   "metadata": {},
   "source": [
    "# Setup a small CNN model using `tf.keras.Sequential` \n",
    "* A simple convolutional neural network with the structure\n",
    "* `32c32p64c64p->200->10`\n",
    "* `Adam optimizer` and `Cross Entropy Loss` with a learning rate ($\\alpha$) set to `0.005`."
   ]
  },
  {
   "cell_type": "code",
   "execution_count": 9,
   "metadata": {},
   "outputs": [],
   "source": [
    "eta = 0.0005\n",
    "val_frac = 0.1 #Fraction of training data to be used for validation \n",
    "# FIRST CONVOLUTION LAYER\n",
    "nC1_kernels = 32 ##number of kernels in the first convolutional layer\n",
    "C1_kernel_shape = (5, 5) ## size of the kernel in the first convolutional layer (5,5)\n",
    "C1_stride = 1 ## stride of the convolution\n",
    "C1_activation = 'relu' ## activation function of the C1 neurons\n",
    "P1_kernel_shape = (2, 2) ## Size of the pooling window (2,2) \n",
    "P1_stride = 2 ## stride of the pooling window\n",
    "\n",
    "# SECOND CONVOLUTION LAYER\n",
    "nC2_kernels = 64\n",
    "C2_kernel_shape = (3, 3)\n",
    "C2_stride = 1\n",
    "C2_activation = 'relu'\n",
    "P2_kernel_shape = (2, 2)\n",
    "P2_stride = 2\n",
    "\n",
    "# FULLY CONNECTED LAYER\n",
    "n_dense = 200\n",
    "dense_activation = 'relu'\n",
    "\n",
    "# FINAL LAYER\n",
    "last_activation = 'softmax'\n",
    "cost_function = 'categorical_crossentropy'\n",
    "n_out = 10\n",
    "optimizer = 'adam' #'sgd'"
   ]
  },
  {
   "cell_type": "code",
   "execution_count": 10,
   "metadata": {},
   "outputs": [
    {
     "name": "stdout",
     "output_type": "stream",
     "text": [
      "WARNING:tensorflow:From /home/visionteam/.local/lib/python2.7/site-packages/tensorflow_core/python/ops/resource_variable_ops.py:1630: calling __init__ (from tensorflow.python.ops.resource_variable_ops) with constraint is deprecated and will be removed in a future version.\n",
      "Instructions for updating:\n",
      "If using Keras pass *_constraint arguments to layers.\n",
      "Model: \"sequential\"\n",
      "_________________________________________________________________\n",
      "Layer (type)                 Output Shape              Param #   \n",
      "=================================================================\n",
      "conv2d (Conv2D)              (None, 24, 24, 32)        832       \n",
      "_________________________________________________________________\n",
      "max_pooling2d (MaxPooling2D) (None, 12, 12, 32)        0         \n",
      "_________________________________________________________________\n",
      "conv2d_1 (Conv2D)            (None, 10, 10, 64)        18496     \n",
      "_________________________________________________________________\n",
      "max_pooling2d_1 (MaxPooling2 (None, 5, 5, 64)          0         \n",
      "_________________________________________________________________\n",
      "flatten (Flatten)            (None, 1600)              0         \n",
      "_________________________________________________________________\n",
      "dense (Dense)                (None, 200)               320200    \n",
      "_________________________________________________________________\n",
      "dense_1 (Dense)              (None, 10)                2010      \n",
      "=================================================================\n",
      "Total params: 341,538\n",
      "Trainable params: 341,538\n",
      "Non-trainable params: 0\n",
      "_________________________________________________________________\n",
      "None\n"
     ]
    }
   ],
   "source": [
    "model = tf.keras.Sequential()\n",
    "\n",
    "#FIRST CONVOLUTION LAYER\n",
    "model.add(tf.keras.layers.Conv2D(nC1_kernels, C1_kernel_shape, C1_stride, activation=C1_activation,\n",
    "                                input_shape=(28, 28, 1)))\n",
    "model.add(tf.keras.layers.MaxPooling2D(P1_kernel_shape, P1_stride))\n",
    "\n",
    "#SECOND CONVOLUTION LAYER\n",
    "model.add(tf.keras.layers.Conv2D(nC2_kernels, C2_kernel_shape, C2_stride, activation=C2_activation))\n",
    "model.add(tf.keras.layers.MaxPooling2D(P2_kernel_shape, P2_stride))\n",
    "model.add(tf.keras.layers.Flatten())\n",
    "\n",
    "#FULLY CONNECTED LAYERS\n",
    "model.add(tf.keras.layers.Dense(n_dense, activation=dense_activation))\n",
    "model.add(tf.keras.layers.Dense(n_out, activation=last_activation))\n",
    "\n",
    "#COMPILE THE MODEL\n",
    "if(optimizer=='adam'):\n",
    "    optim = tf.keras.optimizers.Adam(lr=eta)\n",
    "else:\n",
    "    optim = tf.keras.optimizers.SGD(lr=eta)\n",
    "    \n",
    "model.compile(optimizer=optim, loss=cost_function, metrics=['accuracy'])\n",
    "print(model.summary())\n",
    "\n",
    "#CALLBACK TO KERAS TO SAVE BEST MODEL WEIGHTS\n",
    "best_weights=\"cnn_weights_best.hdf5\"\n",
    "checkpoint = tf.keras.callbacks.ModelCheckpoint(best_weights, monitor='val_acc', verbose=1, save_best_only=True,\n",
    "                                                mode='max')\n"
   ]
  },
  {
   "cell_type": "markdown",
   "metadata": {},
   "source": [
    "## Train the CNN"
   ]
  },
  {
   "cell_type": "code",
   "execution_count": 11,
   "metadata": {},
   "outputs": [
    {
     "name": "stdout",
     "output_type": "stream",
     "text": [
      "Train on 54000 samples, validate on 6000 samples\n",
      "Epoch 1/3\n",
      "53824/54000 [============================>.] - ETA: 0s - loss: 0.1566 - acc: 0.9545\n",
      "Epoch 00001: val_acc improved from -inf to 0.98400, saving model to cnn_weights_best.hdf5\n",
      "54000/54000 [==============================] - 5s 94us/sample - loss: 0.1562 - acc: 0.9546 - val_loss: 0.0582 - val_acc: 0.9840\n",
      "Epoch 2/3\n",
      "53952/54000 [============================>.] - ETA: 0s - loss: 0.0475 - acc: 0.9849\n",
      "Epoch 00002: val_acc improved from 0.98400 to 0.98867, saving model to cnn_weights_best.hdf5\n",
      "54000/54000 [==============================] - 4s 66us/sample - loss: 0.0474 - acc: 0.9849 - val_loss: 0.0376 - val_acc: 0.9887\n",
      "Epoch 3/3\n",
      "53440/54000 [============================>.] - ETA: 0s - loss: 0.0323 - acc: 0.9897\n",
      "Epoch 00003: val_acc did not improve from 0.98867\n",
      "54000/54000 [==============================] - 4s 68us/sample - loss: 0.0324 - acc: 0.9897 - val_loss: 0.0419 - val_acc: 0.9877\n"
     ]
    }
   ],
   "source": [
    "mini_batch_size = 32\n",
    "history = model.fit(train_x,train_y, epochs=3, batch_size=mini_batch_size, callbacks=[checkpoint],\n",
    "                   validation_split=0.1)"
   ]
  },
  {
   "cell_type": "markdown",
   "metadata": {},
   "source": [
    "# Test the model at the end"
   ]
  },
  {
   "cell_type": "code",
   "execution_count": 12,
   "metadata": {},
   "outputs": [
    {
     "name": "stdout",
     "output_type": "stream",
     "text": [
      "\r",
      "10000/10000 [==============================] - 1s 64us/sample - loss: 0.0310 - acc: 0.9899\n"
     ]
    },
    {
     "data": {
      "text/plain": [
       "[0.031002292409539223, 0.9899]"
      ]
     },
     "execution_count": 12,
     "metadata": {},
     "output_type": "execute_result"
    }
   ],
   "source": [
    "model.evaluate(test_x, test_y, batch_size=len(test_x))"
   ]
  },
  {
   "cell_type": "markdown",
   "metadata": {},
   "source": [
    "# Test at the best validation accuracy"
   ]
  },
  {
   "cell_type": "code",
   "execution_count": 13,
   "metadata": {},
   "outputs": [
    {
     "name": "stdout",
     "output_type": "stream",
     "text": [
      "\r",
      "10000/10000 [==============================] - 0s 10us/sample - loss: 0.0375 - acc: 0.9875\n"
     ]
    },
    {
     "data": {
      "text/plain": [
       "[0.03746303915977478, 0.9875]"
      ]
     },
     "execution_count": 13,
     "metadata": {},
     "output_type": "execute_result"
    }
   ],
   "source": [
    "model.load_weights(best_weights)\n",
    "model.compile(optimizer=optim, loss=cost_function, metrics=['accuracy'])\n",
    "model.evaluate(test_x, test_y, batch_size=len(test_x))"
   ]
  },
  {
   "cell_type": "markdown",
   "metadata": {},
   "source": [
    "# Restart the notebook to free up the `GPU` and `RAM`."
   ]
  },
  {
   "cell_type": "code",
   "execution_count": 14,
   "metadata": {},
   "outputs": [
    {
     "data": {
      "text/plain": [
       "{'restart': True, 'status': 'ok'}"
      ]
     },
     "execution_count": 14,
     "metadata": {},
     "output_type": "execute_result"
    }
   ],
   "source": [
    "IPython.Application.instance().kernel.do_shutdown(True) #automatically restarts kernel"
   ]
  },
  {
   "cell_type": "code",
   "execution_count": null,
   "metadata": {},
   "outputs": [],
   "source": []
  }
 ],
 "metadata": {
  "kernelspec": {
   "display_name": "Python 2",
   "language": "python",
   "name": "python2"
  },
  "language_info": {
   "codemirror_mode": {
    "name": "ipython",
    "version": 2
   },
   "file_extension": ".py",
   "mimetype": "text/x-python",
   "name": "python",
   "nbconvert_exporter": "python",
   "pygments_lexer": "ipython2",
   "version": "2.7.17"
  },
  "toc": {
   "base_numbering": 1,
   "nav_menu": {},
   "number_sections": true,
   "sideBar": true,
   "skip_h1_title": false,
   "title_cell": "Table of Contents",
   "title_sidebar": "Contents",
   "toc_cell": false,
   "toc_position": {},
   "toc_section_display": true,
   "toc_window_display": true
  },
  "varInspector": {
   "cols": {
    "lenName": 16,
    "lenType": 16,
    "lenVar": 40
   },
   "kernels_config": {
    "python": {
     "delete_cmd_postfix": "",
     "delete_cmd_prefix": "del ",
     "library": "var_list.py",
     "varRefreshCmd": "print(var_dic_list())"
    },
    "r": {
     "delete_cmd_postfix": ") ",
     "delete_cmd_prefix": "rm(",
     "library": "var_list.r",
     "varRefreshCmd": "cat(var_dic_list()) "
    }
   },
   "types_to_exclude": [
    "module",
    "function",
    "builtin_function_or_method",
    "instance",
    "_Feature"
   ],
   "window_display": false
  }
 },
 "nbformat": 4,
 "nbformat_minor": 2
}
